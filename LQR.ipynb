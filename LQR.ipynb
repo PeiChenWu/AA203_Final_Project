{
 "cells": [
  {
   "cell_type": "code",
   "execution_count": null,
   "id": "ff98d6fc",
   "metadata": {},
   "outputs": [],
   "source": [
    "%load_ext autoreload\n",
    "%autoreload 2\n",
    "from scipy.integrate import odeint\n",
    "from utils import *"
   ]
  },
  {
   "cell_type": "code",
   "execution_count": null,
   "id": "66a656a5",
   "metadata": {},
   "outputs": [],
   "source": [
    "# (ddx_func, ddy_func, ddθ_func, ddϕ_func) = dynamics_eq()"
   ]
  },
  {
   "cell_type": "code",
   "execution_count": null,
   "id": "00a484b7",
   "metadata": {},
   "outputs": [],
   "source": [
    "# # Dynamics constants\n",
    "# # yapf: disable\n",
    "# g = 9.807         # gravity (m / s**2)\n",
    "# mQ = 2.5           # mass (kg)\n",
    "# l = 1.0           # half-length (m)\n",
    "# IQ = 1.0         # moment of inertia about the out-of-plane axis (kg * m**2)\n",
    "# # yapf: enable\n",
    "\n",
    "# # Pendulum\n",
    "# mp = mQ*4\n",
    "# L = l*2\n",
    "# Ip = mp*(L/2)**2"
   ]
  },
  {
   "cell_type": "markdown",
   "id": "4e14d1ba",
   "metadata": {},
   "source": [
    "# LQR Controller"
   ]
  },
  {
   "cell_type": "code",
   "execution_count": null,
   "id": "6611b8bc",
   "metadata": {},
   "outputs": [],
   "source": []
  },
  {
   "cell_type": "markdown",
   "id": "7abdad4c",
   "metadata": {},
   "source": [
    "# Dynamic Modeling"
   ]
  },
  {
   "cell_type": "code",
   "execution_count": null,
   "id": "0b5266c6",
   "metadata": {},
   "outputs": [],
   "source": [
    "# def qaud_dyn(s,t,u):\n",
    "#     '''\n",
    "#     Input:\n",
    "#     - s: states of the system in numpy matrix (4x1 vector) [x, th, dx, dth]\n",
    "#     - params: dictionary of parameter values\n",
    "#     - des: xdes, dxdes\n",
    "#     ------\n",
    "#     Output:\n",
    "#     - ds/dt: derivative states vector (4x1 vector) [dx, dth, ddx, ddth]\n",
    "#     '''\n",
    "   \n",
    "#     x = s[0]\n",
    "#     y = s[1]\n",
    "#     θ = s[2]\n",
    "#     ϕ = s[3]\n",
    "#     dx = s[4]\n",
    "#     dy = s[5]\n",
    "#     dθ = s[6]\n",
    "#     dϕ = s[7]\n",
    "    \n",
    "    \n",
    "#     T1 = (mp+mQ)*g/2 # constant force (Need to add controller)\n",
    "#     T2 = (mp+mQ)*g/2 # constant force (Need to add controller)\n",
    "    \n",
    "    \n",
    "#     ddx = ddx_func(Ip, mp, L, ϕ, dϕ, IQ, mQ, l, θ, dθ, T1, T2, g)\n",
    "#     ddy = ddy_func(Ip, mp, L, ϕ, dϕ, IQ, mQ, l, θ, dθ, T1, T2, g)\n",
    "#     ddθ = ddθ_func(Ip, mp, L, ϕ, dϕ, IQ, mQ, l, θ, dθ, T1, T2, g)\n",
    "#     ddϕ = ddϕ_func(Ip, mp, L, ϕ, dϕ, IQ, mQ, l, θ, dθ, T1, T2, g)\n",
    "    \n",
    "#     ds= [dx, dy, dθ, dϕ, ddx, ddy, ddθ, ddϕ]\n",
    "    \n",
    "\n",
    "#     return ds"
   ]
  },
  {
   "cell_type": "code",
   "execution_count": null,
   "id": "df152b7a",
   "metadata": {},
   "outputs": [],
   "source": [
    "dynamics = PlanarQuadrotorDynamicsWithInvertedPendulum()"
   ]
  },
  {
   "cell_type": "code",
   "execution_count": null,
   "id": "ae6cdec6",
   "metadata": {},
   "outputs": [],
   "source": [
    "d2r = np.pi/180\n",
    "r2d = 180/np.pi"
   ]
  },
  {
   "cell_type": "code",
   "execution_count": null,
   "id": "3b37858b",
   "metadata": {},
   "outputs": [],
   "source": [
    "#now make the time series\n",
    "max_time = 30\n",
    "Sec_sub = 10 #second subdivision (frequency/Hz)\n",
    "dt = 1/Sec_sub #useful for the animation function\n",
    "t = np.linspace(0,max_time,int(Sec_sub*max_time))\n",
    "s2_init_list = [[0,0,0,-30*d2r,0,0,0,0]]\n",
    "\n",
    "# constant force (Need to add controller)\n",
    "u=np.array([(dynamics.mp+dynamics.mQ)*dynamics.g/2, (dynamics.mp+dynamics.mQ)*dynamics.g/2])\n",
    "\n",
    "#integrate dynamics output\n",
    "s2_t_list = []\n",
    "for s2_0 in s2_init_list:\n",
    "    s2_t_out = odeint(dynamics,s2_0,t, args=(u,))\n",
    "#     s2_t_out = odeint(qaud_dyn,s2_0,t, args=(np.array([0,0]),))\n",
    "    s2_t_list.append(s2_t_out)"
   ]
  },
  {
   "cell_type": "code",
   "execution_count": null,
   "id": "648c7a9f",
   "metadata": {},
   "outputs": [],
   "source": [
    "s2_t = s2_t_list[0]\n",
    "animate_planar_quad_with_inverted_pendulum(t, s2_t[:,0], s2_t[:,1], s2_t[:,2], s2_t[:,3], display_in_notebook=True)"
   ]
  },
  {
   "cell_type": "code",
   "execution_count": null,
   "id": "b257e68d",
   "metadata": {},
   "outputs": [],
   "source": [
    "#Now plot the angle vs time\n",
    "fig = plt.figure()\n",
    "ax = fig.add_subplot(111, autoscale_on=True) #if you want to strictly set the bounds\n",
    "ax.grid() #this allows us to see the grid\n",
    "ax.plot(t,s2_t[:,0],'r',label='$x$') #Note: when using latex in legends, use double instead of single '\\' for variables\n",
    "ax.plot(t,s2_t[:,1],'g',label='$y$') #Note: when using latex in legends, use double instead of single '\\' for variables\n",
    "ax.plot(t,s2_t[:,2],'-.r',label='$\\\\dot{\\\\theta}$') #Note: when using latex in legends, use double instead of single '\\' for variables\n",
    "ax.plot(t,s2_t[:,3],'-.g',label='$\\\\dot{\\\\phi}$') #Note: when using latex in legends, use double instead of single '\\' for variables\n",
    "ax.legend() #show the legend\n",
    "\n",
    "plt.show() #this says display the info here"
   ]
  },
  {
   "cell_type": "code",
   "execution_count": null,
   "id": "9325b56c",
   "metadata": {},
   "outputs": [],
   "source": [
    "#Now plot the velocity vs time\n",
    "fig = plt.figure()\n",
    "ax = fig.add_subplot(111, autoscale_on=True) #if you want to strictly set the bounds\n",
    "ax.grid() #this allows us to see the grid\n",
    "ax.plot(t,s2_t[:,4],'r',label='$\\\\dot{x}$') #Note: when using latex in legends, use double instead of single '\\' for variables\n",
    "ax.plot(t,s2_t[:,5],'g',label='$\\\\dot{y}$') #Note: when using latex in legends, use double instead of single '\\' for variables\n",
    "ax.plot(t,s2_t[:,6],'-.r',label='$\\\\ddot{\\\\theta}$') #Note: when using latex in legends, use double instead of single '\\' for variables\n",
    "ax.plot(t,s2_t[:,7],'-.g',label='$\\\\ddot{\\\\phi}$') #Note: when using latex in legends, use double instead of single '\\' for variables\n",
    "ax.legend() #show the legend\n",
    "\n",
    "plt.show() #this says display the info here"
   ]
  },
  {
   "cell_type": "code",
   "execution_count": null,
   "id": "914970f0",
   "metadata": {},
   "outputs": [],
   "source": []
  }
 ],
 "metadata": {
  "kernelspec": {
   "display_name": "Python 3",
   "language": "python",
   "name": "python3"
  },
  "language_info": {
   "codemirror_mode": {
    "name": "ipython",
    "version": 3
   },
   "file_extension": ".py",
   "mimetype": "text/x-python",
   "name": "python",
   "nbconvert_exporter": "python",
   "pygments_lexer": "ipython3",
   "version": "3.7.3"
  }
 },
 "nbformat": 4,
 "nbformat_minor": 5
}

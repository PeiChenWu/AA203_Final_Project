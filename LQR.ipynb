{
 "cells": [
  {
   "cell_type": "code",
   "execution_count": null,
   "id": "ff98d6fc",
   "metadata": {},
   "outputs": [],
   "source": [
    "%load_ext autoreload\n",
    "%autoreload 2\n",
    "import numpy as np\n",
    "from scipy.integrate import odeint\n",
    "from utils import *"
   ]
  },
  {
   "cell_type": "markdown",
   "id": "4e14d1ba",
   "metadata": {},
   "source": [
    "# LQR Controller"
   ]
  },
  {
   "cell_type": "code",
   "execution_count": null,
   "id": "df152b7a",
   "metadata": {},
   "outputs": [],
   "source": [
    "dynamics = PlanarQuadrotorDynamicsWithInvertedPendulum()"
   ]
  },
  {
   "cell_type": "code",
   "execution_count": null,
   "id": "ae6cdec6",
   "metadata": {},
   "outputs": [],
   "source": [
    "d2r = np.pi/180\n",
    "r2d = 180/np.pi"
   ]
  },
  {
   "cell_type": "code",
   "execution_count": null,
   "id": "2d58a6af",
   "metadata": {},
   "outputs": [],
   "source": [
    "#now make the time series\n",
    "max_time = 30\n",
    "freq = 10       # frequency/Hz\n",
    "dt = 1.0 / freq # useful for the animation function\n",
    "t = np.linspace(0, max_time, int(freq*max_time+1))\n",
    "\n",
    "s_0 = np.array([0, 0, 2*np.pi, np.pi-20*d2r, 0, 0, 0, 0])   # Initial state.\n",
    "s_star = np.array([5, 8, 2*np.pi, np.pi, 3, 5, 0, 0])       # Final state.\n",
    "u_star = np.zeros(dynamics.control_dim) # Final control."
   ]
  },
  {
   "cell_type": "code",
   "execution_count": null,
   "id": "37eb439c",
   "metadata": {},
   "outputs": [],
   "source": [
    "def calculateK(A, B, Q=None, R=None, max_iter=1000, eps=1e-4):\n",
    "\n",
    "    state_dim, control_dim = B.shape\n",
    "    \n",
    "    if Q is None:\n",
    "        Q = np.identity(state_dim)\n",
    "    if R is None:\n",
    "        R = np.identity(control_dim)\n",
    "    \n",
    "    P = np.zeros((A.shape[0], A.shape[0]))\n",
    "    delta = eps\n",
    "    i = 0\n",
    "    while delta >= eps and i < max_iter:\n",
    "        K = -np.linalg.inv(R+B.T@P@B)@B.T@P@A\n",
    "        P_next = Q + A.T@P@(A+B@K)\n",
    "        delta = np.max(np.abs(P_next-P))\n",
    "        P = P_next\n",
    "        i += 1\n",
    "        if i % 1 == 0:\n",
    "            print(i, delta)\n",
    "    return K\n",
    "\n",
    "dfds = dynamics.dfds(s_star, None, u_star)\n",
    "dfdu = dynamics.dfdu(s_star, None, u_star)\n",
    "\n",
    "A = np.identity(dynamics.state_dim) + dt * dfds\n",
    "B = dt * dfdu"
   ]
  },
  {
   "cell_type": "code",
   "execution_count": null,
   "id": "5bc2a65d",
   "metadata": {},
   "outputs": [],
   "source": [
    "K = calculateK(A, B)\n",
    "K"
   ]
  },
  {
   "cell_type": "code",
   "execution_count": null,
   "id": "3b37858b",
   "metadata": {},
   "outputs": [],
   "source": [
    "s2_init_list = [[0,0,0,-30*d2r,0,0,0,0]]\n",
    "# s2_init_list = [s_0]\n",
    "\n",
    "# constant force (Need to add controller)\n",
    "u_constant=np.array([(dynamics.mp+dynamics.mQ)*dynamics.g/2, (dynamics.mp+dynamics.mQ)*dynamics.g/2])\n",
    "\n",
    "#integrate dynamics output\n",
    "s2_t_list = []\n",
    "for s2_0 in s2_init_list:\n",
    "\n",
    "# Might be correct code, but right now K is not converging\n",
    "#     s = np.zeros((t.shape[0], dynamics.state_dim))\n",
    "#     s[0] = s2_0\n",
    "#     for k in range(len(t)-1):\n",
    "#         delta_s = s[k]-s_star\n",
    "#         u = K @ delta_s.T\n",
    "#         s[k+1] = odeint(dynamics, s[k], t[k: k+1], (u,))\n",
    "#     s2_t_list.append(s)\n",
    "        \n",
    "    s2_t_out = odeint(dynamics,s2_0,t, args=(u_constant,))\n",
    "    s2_t_list.append(s2_t_out)"
   ]
  },
  {
   "cell_type": "code",
   "execution_count": null,
   "id": "648c7a9f",
   "metadata": {},
   "outputs": [],
   "source": [
    "s2_t = s2_t_list[0]\n",
    "animate_planar_quad_with_inverted_pendulum(t, s2_t[:,0], s2_t[:,1], s2_t[:,2], s2_t[:,3], display_in_notebook=True)"
   ]
  },
  {
   "cell_type": "code",
   "execution_count": null,
   "id": "b257e68d",
   "metadata": {},
   "outputs": [],
   "source": [
    "#Now plot the angle vs time\n",
    "fig = plt.figure()\n",
    "ax = fig.add_subplot(111, autoscale_on=True) #if you want to strictly set the bounds\n",
    "ax.grid() #this allows us to see the grid\n",
    "ax.plot(t,s2_t[:,0],'r',label='$x$') #Note: when using latex in legends, use double instead of single '\\' for variables\n",
    "ax.plot(t,s2_t[:,1],'g',label='$y$') #Note: when using latex in legends, use double instead of single '\\' for variables\n",
    "ax.plot(t,s2_t[:,2],'-.r',label='$\\\\dot{\\\\theta}$') #Note: when using latex in legends, use double instead of single '\\' for variables\n",
    "ax.plot(t,s2_t[:,3],'-.g',label='$\\\\dot{\\\\phi}$') #Note: when using latex in legends, use double instead of single '\\' for variables\n",
    "ax.legend() #show the legend\n",
    "\n",
    "plt.show() #this says display the info here"
   ]
  },
  {
   "cell_type": "code",
   "execution_count": null,
   "id": "9325b56c",
   "metadata": {},
   "outputs": [],
   "source": [
    "#Now plot the velocity vs time\n",
    "fig = plt.figure()\n",
    "ax = fig.add_subplot(111, autoscale_on=True) #if you want to strictly set the bounds\n",
    "ax.grid() #this allows us to see the grid\n",
    "ax.plot(t,s2_t[:,4],'r',label='$\\\\dot{x}$') #Note: when using latex in legends, use double instead of single '\\' for variables\n",
    "ax.plot(t,s2_t[:,5],'g',label='$\\\\dot{y}$') #Note: when using latex in legends, use double instead of single '\\' for variables\n",
    "ax.plot(t,s2_t[:,6],'-.r',label='$\\\\ddot{\\\\theta}$') #Note: when using latex in legends, use double instead of single '\\' for variables\n",
    "ax.plot(t,s2_t[:,7],'-.g',label='$\\\\ddot{\\\\phi}$') #Note: when using latex in legends, use double instead of single '\\' for variables\n",
    "ax.legend() #show the legend\n",
    "\n",
    "plt.show() #this says display the info here"
   ]
  },
  {
   "cell_type": "code",
   "execution_count": null,
   "id": "914970f0",
   "metadata": {},
   "outputs": [],
   "source": []
  }
 ],
 "metadata": {
  "kernelspec": {
   "display_name": "Python 3",
   "language": "python",
   "name": "python3"
  },
  "language_info": {
   "codemirror_mode": {
    "name": "ipython",
    "version": 3
   },
   "file_extension": ".py",
   "mimetype": "text/x-python",
   "name": "python",
   "nbconvert_exporter": "python",
   "pygments_lexer": "ipython3",
   "version": "3.7.3"
  }
 },
 "nbformat": 4,
 "nbformat_minor": 5
}

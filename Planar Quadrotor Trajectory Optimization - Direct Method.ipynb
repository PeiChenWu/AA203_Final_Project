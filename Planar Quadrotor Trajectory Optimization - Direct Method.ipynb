{
 "cells": [
  {
   "cell_type": "code",
   "execution_count": null,
   "id": "acf94643",
   "metadata": {},
   "outputs": [],
   "source": [
    "%load_ext autoreload\n",
    "%autoreload 2\n",
    "import sympy as sp\n",
    "from scipy.optimize import minimize, Bounds\n",
    "from utils import *"
   ]
  },
  {
   "cell_type": "markdown",
   "id": "2ea41cbd",
   "metadata": {},
   "source": [
    "# Planar Quadrotor - Direct Method"
   ]
  },
  {
   "cell_type": "code",
   "execution_count": null,
   "id": "4fc07ece",
   "metadata": {},
   "outputs": [],
   "source": [
    "def pack_decision_variables(s, u, t_f = None, fixed_final_time = True):\n",
    "    \"\"\"Packs decision variables (final time, states, controls) into a 1D vector.\n",
    "    \n",
    "    Args:\n",
    "        t_f: Final time, a scalar.\n",
    "        s: States, an array of shape (N + 1, s_dim).\n",
    "        u: Controls, an array of shape (N, u_dim).\n",
    "    Returns:\n",
    "        An array `z` of shape (1 + (N + 1) * s_dim + N * u_dim,).\n",
    "    \"\"\"\n",
    "    if fixed_final_time:\n",
    "        return np.concatenate([s.ravel(), u.ravel()])\n",
    "    else:\n",
    "        return np.concatenate([[t_f], s.ravel(), u.ravel()])\n",
    "\n",
    "def unpack_decision_variables(z, fixed_final_time = True):\n",
    "    \"\"\"Unpacks a 1D vector into decision variables (final time, states, controls).\n",
    "    \n",
    "    Args:\n",
    "        z: An array of shape (1 + (N + 1) * s_dim + N * u_dim,).\n",
    "    Returns:\n",
    "        t_f: Final time, a scalar.\n",
    "        s: States, an array of shape (N + 1, s_dim).\n",
    "        u: Controls, an array of shape (N, u_dim).\n",
    "    \"\"\"\n",
    "    if fixed_final_time:\n",
    "        s = z[0:(N + 1) * s_dim].reshape(N + 1, s_dim)\n",
    "        u = z[-N * u_dim:].reshape(N, u_dim)\n",
    "        return s, u\n",
    "    else:\n",
    "        t_f = z[0]\n",
    "        s = z[1:1 + (N + 1) * s_dim].reshape(N + 1, s_dim)\n",
    "        u = z[-N * u_dim:].reshape(N, u_dim)\n",
    "        return t_f, s, u"
   ]
  },
  {
   "cell_type": "code",
   "execution_count": null,
   "id": "d84cda22",
   "metadata": {},
   "outputs": [],
   "source": [
    "d2r = np.pi/180\n",
    "r2d = 180/np.pi"
   ]
  },
  {
   "cell_type": "code",
   "execution_count": null,
   "id": "fe848bc2",
   "metadata": {},
   "outputs": [],
   "source": [
    "N = 60  # Number of time discretization nodes (0, 1, ... N).\n",
    "s_dim = 8  # State dimension;\n",
    "u_dim = 2  # Control dimension; \n",
    "#t_f = 10  # fixed final time\n",
    "#dt = t_f / N\n",
    "\n",
    "s_0 = np.array([0, 0, 2*np.pi, np.pi-20*d2r, 0, 0, 0, 0])  # Initial state.\n",
    "s_f = np.array([5, 8, 2*np.pi, np.pi, 3, 5, 0, 0])  # Final state.\n",
    "\n",
    "t_f = 7  # fixed final time\n",
    "dt = t_f/N"
   ]
  },
  {
   "cell_type": "code",
   "execution_count": null,
   "id": "00007b88",
   "metadata": {},
   "outputs": [],
   "source": [
    "def optimize_trajectory(max_iter=1000):\n",
    "    dynamics = PlanarQuadrotorDynamicsWithInvertedPendulum(as_numpy=True)\n",
    "    \n",
    "    def cost(z):\n",
    "        s, u = unpack_decision_variables(z)\n",
    "        return (dt) * np.sum(np.square(u))\n",
    "    \n",
    "    def constraints(z):\n",
    "        states, controls = unpack_decision_variables(z)\n",
    "        constraint_list = [states[0]-s_0, states[-1]-s_f]\n",
    "        for i in range(N):\n",
    "            constraint_list.append(states[i+1]-(states[i]+(dt)*dynamics(states[i], None, controls[i])))\n",
    "        return np.concatenate(constraint_list)\n",
    "    \n",
    "    z_guess = pack_decision_variables(np.linspace(s_0, s_f, N+1), np.ones((N, u_dim)))\n",
    "    z_iterates = [z_guess]\n",
    "    \n",
    "    #bnds = [(0, t_f)] + [(-np.inf,np.inf),(-np.inf,np.inf),(0,2*np.pi),(0,2*np.pi),(-np.inf,np.inf),(-np.inf,np.inf),(-np.inf,np.inf),(-np.inf,np.inf)]*(N+1) + [(0,np.inf),(0,np.inf)]*(N)\n",
    "    bnds = [(-np.inf,np.inf),(-np.inf,np.inf),((315)*d2r,(585)*d2r),(0,2*np.pi),(-np.inf,np.inf),(-np.inf,np.inf),(-np.inf,np.inf),(-np.inf,np.inf)]*(N+1) + [(0,np.inf),(0,np.inf)]*(N)\n",
    "    \n",
    "    print(\"DEBUG: minimizing\")\n",
    "    \n",
    "    result = minimize(cost,\n",
    "                      z_guess,\n",
    "                      method=None,\n",
    "                      bounds=bnds,\n",
    "                      constraints={'type':'eq','fun':constraints},\n",
    "                      options={'maxiter':max_iter},\n",
    "                      callback=lambda z:z_iterates.append(z))\n",
    "    \n",
    "    print(\"DEBUG: finish minimizing\")\n",
    "    \n",
    "    z_iterates = np.stack(z_iterates)\n",
    "    z = result.x\n",
    "    return (unpack_decision_variables(z))"
   ]
  },
  {
   "cell_type": "code",
   "execution_count": null,
   "id": "74bbc30a",
   "metadata": {},
   "outputs": [],
   "source": [
    "s, u = optimize_trajectory()"
   ]
  },
  {
   "cell_type": "code",
   "execution_count": null,
   "id": "b0d466ed",
   "metadata": {},
   "outputs": [],
   "source": [
    "t = np.linspace(0, t_f, N + 1)"
   ]
  },
  {
   "cell_type": "code",
   "execution_count": null,
   "id": "039597f4",
   "metadata": {},
   "outputs": [],
   "source": [
    "animate_planar_quad_with_inverted_pendulum(t, s[:,0], s[:,1], s[:,2], s[:,3], display_in_notebook=True)"
   ]
  },
  {
   "cell_type": "code",
   "execution_count": null,
   "id": "c5f443e8",
   "metadata": {},
   "outputs": [],
   "source": [
    "ani = animate_planar_quad_with_inverted_pendulum(t, s[:,0], s[:,1], s[:,2], s[:,3], display_in_notebook=False)\n",
    "ani = ani.save('planar_quad_with_inverted_pendulum_fix_final_time_3.mp4', writer='ffmpeg')"
   ]
  },
  {
   "cell_type": "code",
   "execution_count": null,
   "id": "8643ff06",
   "metadata": {},
   "outputs": [],
   "source": [
    "T1 = u[:, 0]\n",
    "T2 = u[:, 1]\n",
    "\n",
    "x = s[:, 0]\n",
    "y = s[:, 1]\n",
    "θ = s[:, 2]\n",
    "ϕ = s[:, 3]\n",
    "\n",
    "data = {'t_f': t, 's': s, 'u': u}\n",
    "save_dict(data, f'data/optimal_control.pkl')\n",
    "maybe_makedirs('plots')\n",
    "\n",
    "# plotting\n",
    "# plt.rc('font', weight='bold', size=16)\n",
    "plt.figure(figsize=(12, 4))\n",
    "plt.subplot(1, 2, 1)\n",
    "plt.plot(x, y, 'k-', linewidth=2)\n",
    "plt.grid(True)\n",
    "plt.plot(0, 0, 'go', markerfacecolor='green', markersize=15) # start position\n",
    "plt.plot(5, 5, 'ro', markerfacecolor='red', markersize=15) # end position\n",
    "plt.xlabel('X [m]')\n",
    "plt.ylabel('Y [m]')\n",
    "#plt.axis([-1, 6, -1, 6])\n",
    "plt.title(f'Optimal Control Trajectory')\n",
    "\n",
    "\n",
    "plt.subplot(1, 2, 2)\n",
    "plt.plot(t[:-1], T1, linewidth=2)\n",
    "plt.plot(t[:-1], T2, linewidth=2)\n",
    "plt.grid(True)\n",
    "plt.xlabel('Time [s]')\n",
    "plt.legend([r'$T_1$ [N]', r'$T_2$ [N]'], loc='best')\n",
    "plt.title(f'Optimal control sequence')\n",
    "plt.tight_layout()\n",
    "plt.savefig(f'plots/optimal_control_fix_time_3.png')\n",
    "plt.show()\n",
    "\n",
    "\n",
    "plt.figure(figsize=(12, 4))\n",
    "#plt.subplot(1, 2, 2)\n",
    "plt.plot(t, θ, linewidth=2)\n",
    "plt.plot(t, ϕ, linewidth=2)\n",
    "plt.grid(True)\n",
    "plt.xlabel('Time [s]')\n",
    "plt.legend([r'$\\theta$ [rad]', r'$\\phi$ [rad]'], loc='best')\n",
    "plt.title(f'Angle')\n",
    "plt.tight_layout()\n",
    "plt.savefig(f'plots/angle_fix_time_3.png')\n",
    "plt.show()"
   ]
  },
  {
   "cell_type": "code",
   "execution_count": null,
   "id": "72ace560",
   "metadata": {},
   "outputs": [],
   "source": []
  },
  {
   "cell_type": "code",
   "execution_count": null,
   "id": "d3865a6d",
   "metadata": {},
   "outputs": [],
   "source": []
  }
 ],
 "metadata": {
  "kernelspec": {
   "display_name": "Python 3",
   "language": "python",
   "name": "python3"
  },
  "language_info": {
   "codemirror_mode": {
    "name": "ipython",
    "version": 3
   },
   "file_extension": ".py",
   "mimetype": "text/x-python",
   "name": "python",
   "nbconvert_exporter": "python",
   "pygments_lexer": "ipython3",
   "version": "3.7.3"
  }
 },
 "nbformat": 4,
 "nbformat_minor": 5
}
